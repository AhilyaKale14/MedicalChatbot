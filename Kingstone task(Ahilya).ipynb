{
 "cells": [
  {
   "cell_type": "code",
   "execution_count": 1,
   "id": "e82e1d08",
   "metadata": {},
   "outputs": [],
   "source": [
    "# Model By Ahilya Kale"
   ]
  },
  {
   "cell_type": "code",
   "execution_count": 2,
   "id": "be0d2805",
   "metadata": {},
   "outputs": [],
   "source": [
    "import openai\n",
    "import pandas as pd"
   ]
  },
  {
   "cell_type": "code",
   "execution_count": 3,
   "id": "e8107919",
   "metadata": {},
   "outputs": [],
   "source": [
    "openai.api_key = 'YOUR KEY'"
   ]
  },
  {
   "cell_type": "code",
   "execution_count": 6,
   "id": "4397407f",
   "metadata": {},
   "outputs": [
    {
     "name": "stdout",
     "output_type": "stream",
     "text": [
      "Name:Lucy\n",
      "User: Which of the following is a common symptom of postpartum anxiety? A) Rapid heartbeat B) Dry skin C) Headache\n",
      "Chatbot: A) Rapid heartbeat\n",
      "User: It is important to educate the mother on proper ________ practices during postpartum care.\n",
      "Chatbot: breastfeeding\n",
      "User: Please provide a chronological order of recommended postpartum exercises.\"\n",
      "Chatbot: 1) Kegel exercises\n",
      "2) Gentle walking\n",
      "3) Pelvic tilts\n",
      "4) Abdominal contractions\n",
      "5) Low-impact aerobic exercises\n",
      "User: steps to the exercise\n",
      "Chatbot: 1) Warm up by doing gentle stretching or walking in place for 5-10 minutes.\n",
      "2) Start with Kegel exercises by tightening your pelvic floor muscles and holding for 5-10 seconds, then relaxing for the same amount of time. Repeat this 10-15 times.\n",
      "3) Move on to gentle walking for 10-15 minutes, gradually increasing the duration as tolerated.\n",
      "4) Perform pelvic tilts by lying on your back with knees bent, and gently tilt your pelvis upward while pressing your lower back against the floor. Hold for a few seconds and then release. Repeat this 10-15 times.\n",
      "5) Next, do abdominal contractions by lying on your back with knees bent, place your hands on your stomach, and tighten your abdominal muscles while exhaling. Hold for a few seconds and then relax. Repeat this 10-15 times.\n",
      "6) Finish with low-impact aerobic exercises such as brisk walking, swimming, or cycling for 20-30 minutes, gradually increasing the duration and intensity as you recover.\n",
      "7) Cool down by stretching for 5-10 minutes and don't forget to drink plenty of water to stay hydrated during and after exercise.\n",
      "User: what is anxiety\n",
      "Chatbot: Anxiety is a normal and often adaptive reaction to stress or potential danger. It is a feeling of unease, such as worry or fear, that can be accompanied by physical symptoms such as increased heart rate, sweating, and restlessness. Anxiety becomes a problem when it is excessive, persistent, and interferes with daily activities and functioning. It can be categorized into different types, including generalized anxiety disorder, panic disorder, social anxiety disorder, and specific phobias. Treatment for anxiety may include therapy, medications, lifestyle modifications, and stress management techniques.\n",
      "User: how to avoid it\n",
      "Chatbot: To help avoid anxiety, here are some strategies:\n",
      "\n",
      "1) Practice relaxation techniques: Engage in activities that promote relaxation, such as deep breathing exercises, meditation, or yoga. These techniques can help calm the mind and reduce anxiety symptoms.\n",
      "\n",
      "2) Stay physically active: Regular exercise has been shown to improve mood and reduce anxiety. Aim for at least 30 minutes of moderate-intensity exercise most days of the week.\n",
      "\n",
      "3) Get enough sleep: Lack of sleep can contribute to feelings of anxiety. Establish a regular sleep schedule and practice good sleep hygiene, such as avoiding screens before bed and creating a comfortable sleep environment.\n",
      "\n",
      "4) Limit caffeine and alcohol intake: Both caffeine and alcohol can worsen anxiety symptoms. Limiting or avoiding these substances can help reduce anxiety levels.\n",
      "\n",
      "5) Practice stress management: Identify and address the underlying causes of stress in your life. Consider activities such as journaling, talking to a trusted friend or therapist, or engaging in hobbies that help you unwind and relax.\n",
      "\n",
      "6) Maintain a healthy lifestyle: Eat a balanced diet, stay hydrated, and avoid excessive alcohol or drug use. Taking care of your physical health can contribute to better mental well-being.\n",
      "\n",
      "7) Seek support: If anxiety becomes overwhelming or interferes with your daily life, don't hesitate to seek help from a healthcare professional. They can provide guidance, support, and treatment options tailored to your needs.\n",
      "\n",
      "Remember, everyone's experience with anxiety is unique, so finding what works best for you may involve some trial and error\n",
      "User: how to recognise it\n",
      "Chatbot: Recognizing anxiety involves being aware of both physical and psychological symptoms that may indicate its presence. Here are some common signs and symptoms:\n",
      "\n",
      "1) Excessive worry or fear: Feeling an overwhelming sense of unease, worry, or fear that persists and interferes with daily life.\n",
      "\n",
      "2) Physical symptoms: Increased heart rate, rapid breathing, sweating, trembling or shaking, muscle tension, headaches, stomachaches, and digestive issues.\n",
      "\n",
      "3) Restlessness or irritability: Feeling on edge, being easily agitated, or having difficulty relaxing or concentrating.\n",
      "\n",
      "4) Sleep disturbances: Difficulty falling asleep, staying asleep, or experiencing restless and unrefreshing sleep.\n",
      "\n",
      "5) Cognitive symptoms: Racing thoughts, overthinking, inability to control worries, excessive self-doubt or critical self-talk, anticipating the worst outcome.\n",
      "\n",
      "6) Avoidance behaviors: Avoiding situations or activities that may trigger anxiety, such as social gatherings or specific places.\n",
      "\n",
      "7) Panic attacks: Sudden and intense episodes of fear or discomfort, accompanied by physical symptoms such as shortness of breath, chest pain, dizziness, or a sense of impending doom.\n",
      "\n",
      "It's important to note that experiencing one or more of these symptoms doesn't necessarily mean you have an anxiety disorder. However, if you consistently struggle with these symptoms and they significantly impact your daily life, it may be beneficial to consult a healthcare professional for further evaluation and guidance.\n",
      "User: any advice\n",
      "Chatbot: Certainly! Here are some general advice for managing anxiety:\n",
      "\n",
      "1) Seek professional help: If you're experiencing persistent or severe anxiety, consider reaching out to a mental health professional. They can provide an accurate diagnosis, offer therapy or counseling, and recommend appropriate treatment options.\n",
      "\n",
      "2) Practice self-care: Take care of your physical and emotional well-being. Get regular exercise, eat a balanced diet, get enough sleep, and engage in activities that bring you joy and relaxation.\n",
      "\n",
      "3) Challenge negative thoughts: Recognize and challenge negative thoughts that contribute to anxiety. Practice reframing your thoughts in a more positive and realistic manner.\n",
      "\n",
      "4) Relaxation techniques: Incorporate relaxation techniques into your routine, such as deep breathing exercises, progressive muscle relaxation, meditation, or guided imagery. These techniques can help calm your mind and body.\n",
      "\n",
      "5) Manage stress: Implement stress management techniques, such as prioritizing tasks, setting boundaries, practicing time management, and learning effective coping mechanisms. Consider incorporating stress-reducing activities into your daily routine.\n",
      "\n",
      "6) Social support: Seek support from loved ones or join support groups where you can connect with others who may be experiencing similar challenges. Talking about your feelings and experiences can provide comfort and reassurance.\n",
      "\n",
      "7) Limit caffeine and alcohol: Both caffeine and alcohol can exacerbate anxiety symptoms. Limit your intake or consider eliminating these substances from your diet.\n",
      "\n",
      "8) Take breaks: Allow yourself regular breaks throughout the day to relax and recharge. Engage in activities that bring you pleasure and help\n",
      "User: quit\n",
      "Chatbot: Thank you for trusting us ,Goodbye!\n"
     ]
    }
   ],
   "source": [
    "def chatbot_pipeline(system_messages,user_messages):\n",
    "    response = openai.ChatCompletion.create(\n",
    "    model=\"gpt-3.5-turbo\",\n",
    "    messages=system_messages + user_messages,\n",
    "    temperature=1,\n",
    "    max_tokens=300,\n",
    "    top_p=1,\n",
    "    frequency_penalty=0,\n",
    "    presence_penalty=0\n",
    "  )\n",
    "    return response[\"choices\"][0][\"message\"][\"content\"]\n",
    "user_input = input(\"Name:\")\n",
    "system_messages = [{\"role\": \"system\", \"content\": \"You are a helpful assistant.\"}, {\"role\": \"user\", \"content\":''' Consider yourself as an expert in medical field and provide answer to the asked question as a medical professional.Also in mcq questions just give\n",
    "      the correct answer with no explanation,for filling the blanks just provide answer for the blank and for comparison provide the comparison in points.Question: ''' +user_input+'''\n",
    "      ?Answer: '''    }]\n",
    "user_messages = []\n",
    "while True:\n",
    "    user_input = input(\"User: \")\n",
    "    # Check for termination condition\n",
    "    if user_input.lower() in ['quit', 'exit']:\n",
    "        print(\"Chatbot: Thank you for trusting us ,Goodbye!\")\n",
    "        break\n",
    "    user_messages.append({\"role\": \"user\", \"content\": user_input})\n",
    "    response = chatbot_pipeline(system_messages, user_messages)\n",
    "    user_messages.append({\"role\": \"assistant\", \"content\": response})\n",
    "    print(\"Chatbot:\", response)"
   ]
  },
  {
   "cell_type": "code",
   "execution_count": null,
   "id": "77438f34",
   "metadata": {},
   "outputs": [],
   "source": []
  }
 ],
 "metadata": {
  "kernelspec": {
   "display_name": "Python 3 (ipykernel)",
   "language": "python",
   "name": "python3"
  },
  "language_info": {
   "codemirror_mode": {
    "name": "ipython",
    "version": 3
   },
   "file_extension": ".py",
   "mimetype": "text/x-python",
   "name": "python",
   "nbconvert_exporter": "python",
   "pygments_lexer": "ipython3",
   "version": "3.10.4"
  }
 },
 "nbformat": 4,
 "nbformat_minor": 5
}
